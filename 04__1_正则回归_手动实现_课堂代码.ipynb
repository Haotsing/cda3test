{
 "cells": [
  {
   "cell_type": "code",
   "execution_count": 1,
   "id": "b7d8b359",
   "metadata": {},
   "outputs": [],
   "source": [
    "import numpy as np\n",
    "import pandas as pd\n",
    "import matplotlib.pyplot as plt"
   ]
  },
  {
   "cell_type": "markdown",
   "id": "47b754c6",
   "metadata": {},
   "source": [
    "# 岭回归手动实现（解析解）"
   ]
  },
  {
   "cell_type": "code",
   "execution_count": 2,
   "id": "37b0aa47",
   "metadata": {},
   "outputs": [],
   "source": [
    "#岭回归\n",
    "def load_data():\n",
    "    data=pd.read_table('./data/data_ridge.txt',sep='\t',names=['x1','y'])\n",
    "    data['x0']=1\n",
    "    feature=data[['x0','x1']] #X\n",
    "    label=data['y']           #Y\n",
    "    return np.mat(feature), np.mat(label).T\n",
    "\n",
    "def ridge_regression(feature, label, lam):\n",
    "    n = np.shape(feature)[1]\n",
    "    theta = (feature.T * feature + lam * np.mat(np.eye(n))).I * feature.T * label      # 解析解\n",
    "    return theta"
   ]
  },
  {
   "cell_type": "code",
   "execution_count": 8,
   "id": "a791434f",
   "metadata": {},
   "outputs": [
    {
     "data": {
      "text/plain": [
       "Text(0.5, 1.0, 'ridge_regression')"
      ]
     },
     "execution_count": 8,
     "metadata": {},
     "output_type": "execute_result"
    },
    {
     "data": {
      "image/png": "[encoded data removed]",
      "text/plain": [
       "<Figure size 800x400 with 1 Axes>"
      ]
     },
     "metadata": {},
     "output_type": "display_data"
    }
   ],
   "source": [
    "# 导入数据并绘制散点图\n",
    "feature, label = load_data()\n",
    "plt.figure(figsize=(8,4),dpi=100)\n",
    "feature1= feature[:,1].getA()\n",
    "label1= label.getA() #从矩阵里面取数组\n",
    "plt.scatter(feature1,label1,color='black')\n",
    "\n",
    "# 训练模型\n",
    "theta = ridge_regression(feature, label, 1)  # lam参数,可以调整\n",
    "y_fit= feature * theta\n",
    "\n",
    "# 画图\n",
    "plt.plot(feature1,y_fit,color = 'blue', linewidth=3)\n",
    "plt.title(\"ridge_regression\")"
   ]
  },
  {
   "cell_type": "markdown",
   "id": "b247ac4b",
   "metadata": {},
   "source": [
    "# sklearn中的岭回归"
   ]
  },
  {
   "cell_type": "markdown",
   "id": "efde576f",
   "metadata": {},
   "source": [
    "##### 使用abalone鲍鱼数据集\n",
    "性别（M，F，I）由于鲍鱼年幼时分辨不出该属性，所以有三个类别。  \n",
    "长度 单位毫米  \n",
    "直径 单位毫米  \n",
    "高度 单位毫米  \n",
    "总重量  \n",
    "剥壳重量  \n",
    "内脏重量  \n",
    "壳重  \n",
    "环的数量 （标签，整型 +1.5用于预测鲍鱼年龄）"
   ]
  },
  {
   "cell_type": "code",
   "execution_count": 9,
   "id": "af204063",
   "metadata": {},
   "outputs": [],
   "source": [
    "# 读入数据\n",
    "data_raw= pd.read_csv(r'./data/abalone.txt',sep='\t') \n",
    "\n",
    "# 数据标准化\n",
    "from sklearn.preprocessing import StandardScaler\n",
    "data_standard= StandardScaler().fit_transform(data_raw)  # 实例化后直接fit\n",
    "\n",
    "# 生成训练数据\n",
    "data= pd.DataFrame(data_standard, columns= ['x1','x2','x3','x4','x5','x6','x7','x8','y'])\n",
    "X, y= data.iloc[:, :-1], data.iloc[:, -1]"
   ]
  },
  {
   "cell_type": "markdown",
   "id": "530e4450",
   "metadata": {},
   "source": [
    "## 岭回归（L2正则）"
   ]
  },
  {
   "cell_type": "code",
   "execution_count": 16,
   "id": "6fda56de",
   "metadata": {},
   "outputs": [
    {
     "name": "stdout",
     "output_type": "stream",
     "text": [
      "MSE:  0.47290000759844547\n",
      "R方:  0.5270999924015545\n"
     ]
    }
   ],
   "source": [
    "# 训练模型\n",
    "from sklearn import linear_model\n",
    "reg = linear_model.Ridge(alpha= 10).fit(X, y) \n",
    "\n",
    "# MSE\n",
    "from sklearn.metrics import mean_squared_error\n",
    "print(\"MSE: \", mean_squared_error(y, reg.predict(X)))\n",
    "\n",
    "# R方\n",
    "print(\"R方: \", reg.score(X, y))"
   ]
  },
  {
   "cell_type": "markdown",
   "id": "cb996e59",
   "metadata": {},
   "source": [
    "## Lasso回归（L1正则）"
   ]
  },
  {
   "cell_type": "code",
   "execution_count": 17,
   "id": "a73c649b",
   "metadata": {},
   "outputs": [
    {
     "name": "stdout",
     "output_type": "stream",
     "text": [
      "MSE:  0.6105338586965563\n",
      "R方:  0.3894661413034437\n"
     ]
    }
   ],
   "source": [
    "from sklearn import linear_model\n",
    "reg_lasso = linear_model.Lasso(alpha=0.1).fit(X, y) \n",
    "\n",
    "print(\"MSE: \", mean_squared_error(y, reg_lasso.predict(X)))\n",
    "\n",
    "# R方\n",
    "print(\"R方: \", reg_lasso.score(X, y))"
   ]
  },
  {
   "cell_type": "markdown",
   "id": "f3a306cb",
   "metadata": {},
   "source": [
    "## 弹性网络（L1+L2正则）"
   ]
  },
  {
   "cell_type": "code",
   "execution_count": 35,
   "id": "64ab2e8f",
   "metadata": {},
   "outputs": [],
   "source": [
    "from sklearn.linear_model import ElasticNet\n",
    "reg_elastic = ElasticNet(alpha=0.5, l1_ratio=0.1).fit(X, y)  #只需要优化alpha和l1_ratio"
   ]
  },
  {
   "cell_type": "code",
   "execution_count": 36,
   "id": "db7701e8",
   "metadata": {},
   "outputs": [
    {
     "name": "stdout",
     "output_type": "stream",
     "text": [
      "MSE:  0.632555566243067\n",
      "R方:  0.36744443375693303\n"
     ]
    }
   ],
   "source": [
    "print(\"MSE: \", mean_squared_error(y, reg_elastic.predict(X)))\n",
    "\n",
    "# R方\n",
    "print(\"R方: \", reg_elastic.score(X, y))"
   ]
  },
  {
   "cell_type": "code",
   "execution_count": null,
   "id": "46a7152c",
   "metadata": {},
   "outputs": [],
   "source": []
  }
 ],
 "metadata": {
  "kernelspec": {
   "display_name": "python31013",
   "language": "python",
   "name": "python31013"
  },
  "language_info": {
   "codemirror_mode": {
    "name": "ipython",
    "version": 3
   },
   "file_extension": ".py",
   "mimetype": "text/x-python",
   "name": "python",
   "nbconvert_exporter": "python",
   "pygments_lexer": "ipython3",
   "version": "3.10.13"
  },
  "toc": {
   "base_numbering": 1,
   "nav_menu": {},
   "number_sections": true,
   "sideBar": true,
   "skip_h1_title": false,
   "title_cell": "Table of Contents",
   "title_sidebar": "Contents",
   "toc_cell": false,
   "toc_position": {
    "height": "calc(100% - 180px)",
    "left": "10px",
    "top": "150px",
    "width": "165px"
   },
   "toc_section_display": true,
   "toc_window_display": false
  }
 },
 "nbformat": 4,
 "nbformat_minor": 5
}
