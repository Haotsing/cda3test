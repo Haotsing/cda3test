{
 "cells": [
  {
   "cell_type": "markdown",
   "metadata": {},
   "source": [
    "# 初始化环境"
   ]
  },
  {
   "cell_type": "code",
   "execution_count": 1,
   "metadata": {
    "tags": []
   },
   "outputs": [],
   "source": [
    "# 初始化配置信息\n",
    "import os\n",
    "memory = '10g'\n",
    "pyspark_submit_args = ' --driver-memory ' + memory + ' pyspark-shell'\n",
    "os.environ[\"PYSPARK_SUBMIT_ARGS\"] = pyspark_submit_args\n",
    "\n",
    "import findspark\n",
    "findspark.init()\n",
    "\n",
    "from pyspark.sql import SparkSession\n",
    "from pyspark.sql.functions import *\n",
    "from pyspark import StorageLevel\n",
    "spark = (SparkSession\n",
    "        .builder\n",
    "        .appName(\"文本分类器\")\n",
    "        .master('local[4]')\n",
    "        .getOrCreate()\n",
    "        )"
   ]
  },
  {
   "cell_type": "markdown",
   "metadata": {},
   "source": [
    "# 文本案例演示\n",
    "\n",
    "基于随机森林的新闻分类任务"
   ]
  },
  {
   "cell_type": "markdown",
   "metadata": {},
   "source": [
    "## 初始化数据"
   ]
  },
  {
   "cell_type": "code",
   "execution_count": 2,
   "metadata": {
    "tags": []
   },
   "outputs": [
    {
     "name": "stdout",
     "output_type": "stream",
     "text": [
      "+-------------+-------------------------------------+\n",
      "|channel_title|                                 text|\n",
      "+-------------+-------------------------------------+\n",
      "|         体育|新浪体育讯　中超有两大洋帅。南有恒...|\n",
      "|         体育|            \\n\\n2015年1月1 日，距 ...|\n",
      "|         体育|        新浪体育讯　从2014年11月27...|\n",
      "|         体育|  新浪体育讯　澳大利亚A联赛(简称澳...|\n",
      "|         体育|  新浪体育讯　北京时间1月1日，洛杉...|\n",
      "+-------------+-------------------------------------+\n",
      "only showing top 5 rows\n",
      "\n"
     ]
    }
   ],
   "source": [
    "spark_sinanews = spark.read.json(\"data/sinaNews_201501.json\")\n",
    "spark_sinanews.show(5)"
   ]
  },
  {
   "cell_type": "markdown",
   "metadata": {},
   "source": [
    "## 清洗数据"
   ]
  },
  {
   "cell_type": "code",
   "execution_count": 3,
   "metadata": {
    "tags": []
   },
   "outputs": [
    {
     "name": "stdout",
     "output_type": "stream",
     "text": [
      "root\n",
      " |-- channel_title: string (nullable = true)\n",
      " |-- text: string (nullable = true)\n",
      "\n"
     ]
    }
   ],
   "source": [
    "spark_sinanews.printSchema()"
   ]
  },
  {
   "cell_type": "code",
   "execution_count": 4,
   "metadata": {
    "tags": []
   },
   "outputs": [],
   "source": [
    "#存在空的text,选择文章长度大于20的\n",
    "spark_sinanews = spark_sinanews.select(\"channel_title\",\"text\").filter(length(\"text\")>20)"
   ]
  },
  {
   "cell_type": "code",
   "execution_count": 5,
   "metadata": {
    "tags": []
   },
   "outputs": [
    {
     "data": {
      "text/plain": [
       "11040"
      ]
     },
     "execution_count": 5,
     "metadata": {},
     "output_type": "execute_result"
    }
   ],
   "source": [
    "spark_sinanews.count()"
   ]
  },
  {
   "cell_type": "code",
   "execution_count": 6,
   "metadata": {
    "tags": []
   },
   "outputs": [
    {
     "data": {
      "text/plain": [
       "DataFrame[channel_title: string, text: string]"
      ]
     },
     "execution_count": 6,
     "metadata": {},
     "output_type": "execute_result"
    }
   ],
   "source": [
    "spark_sinanews"
   ]
  },
  {
   "cell_type": "markdown",
   "metadata": {},
   "source": [
    "## 定义udf 函数 对数据进行分词"
   ]
  },
  {
   "cell_type": "code",
   "execution_count": 7,
   "metadata": {
    "tags": []
   },
   "outputs": [
    {
     "name": "stderr",
     "output_type": "stream",
     "text": [
      "Building prefix dict from the default dictionary ...\n",
      "Dumping model to file cache C:\\Users\\Administrator\\AppData\\Local\\Temp\\jieba.cache\n",
      "Loading model cost 0.666 seconds.\n",
      "Prefix dict has been built successfully.\n"
     ]
    }
   ],
   "source": [
    "import jieba\n",
    "from pyspark.sql.types import StringType\n",
    "jieba.initialize()"
   ]
  },
  {
   "cell_type": "code",
   "execution_count": 8,
   "metadata": {
    "tags": []
   },
   "outputs": [],
   "source": [
    "# 自定义函数\n",
    "def cut_words(input_str):\n",
    "    if not jieba.dt.initialized:\n",
    "        jieba.initialize()   \n",
    "    ret = \" \".join([w for w in jieba.lcut(input_str)])\n",
    "    return ret"
   ]
  },
  {
   "cell_type": "code",
   "execution_count": 9,
   "metadata": {
    "tags": []
   },
   "outputs": [],
   "source": [
    "# 向Spark注册自定义函数\n",
    "preprocess_udf = udf(cut_words, StringType())"
   ]
  },
  {
   "cell_type": "code",
   "execution_count": 10,
   "metadata": {
    "tags": []
   },
   "outputs": [],
   "source": [
    "# 添加新列\n",
    "spark_sinanews = spark_sinanews.withColumn(\"text_words\",preprocess_udf(\"text\"))"
   ]
  },
  {
   "cell_type": "code",
   "execution_count": 11,
   "metadata": {
    "tags": []
   },
   "outputs": [
    {
     "name": "stdout",
     "output_type": "stream",
     "text": [
      "+-------------+-------------------------------------+-------------------------------+\n",
      "|channel_title|                                 text|                     text_words|\n",
      "+-------------+-------------------------------------+-------------------------------+\n",
      "|         体育|新浪体育讯　中超有两大洋帅。南有恒...|新浪 体育讯 　 中超 有 两大 ...|\n",
      "|         体育|            \\n\\n2015年1月1 日，距 ...|         \\n \\n 2015 年 1 月 ...|\n",
      "|         体育|        新浪体育讯　从2014年11月27...|   新浪 体育讯 　 从 2014 年...|\n",
      "+-------------+-------------------------------------+-------------------------------+\n",
      "only showing top 3 rows\n",
      "\n"
     ]
    }
   ],
   "source": [
    "spark_sinanews.show(3)"
   ]
  },
  {
   "cell_type": "code",
   "execution_count": 12,
   "metadata": {
    "tags": []
   },
   "outputs": [
    {
     "data": {
      "text/plain": [
       "DataFrame[channel_title: string, text: string, text_words: string]"
      ]
     },
     "execution_count": 12,
     "metadata": {},
     "output_type": "execute_result"
    }
   ],
   "source": [
    "spark_sinanews.persist(storageLevel=StorageLevel(True,False,False,False)) #设置缓存点"
   ]
  },
  {
   "cell_type": "markdown",
   "metadata": {},
   "source": [
    "## 对类别进行编码"
   ]
  },
  {
   "cell_type": "code",
   "execution_count": 13,
   "metadata": {
    "tags": []
   },
   "outputs": [
    {
     "name": "stdout",
     "output_type": "stream",
     "text": [
      "+-------------+-----+\n",
      "|channel_title|count|\n",
      "+-------------+-----+\n",
      "|         财经| 6183|\n",
      "|         体育| 4857|\n",
      "+-------------+-----+\n",
      "\n"
     ]
    }
   ],
   "source": [
    "spark_sinanews.groupBy('channel_title').count().orderBy(col(\"count\").desc()).show()  "
   ]
  },
  {
   "cell_type": "code",
   "execution_count": 14,
   "metadata": {
    "tags": []
   },
   "outputs": [],
   "source": [
    "from pyspark.ml.feature import StringIndexer, IndexToString\n",
    "\n",
    "# 字符->编码\n",
    "label_stringIdx = StringIndexer(inputCol=\"channel_title\", outputCol=\"label\").fit(spark_sinanews) \n",
    "\n",
    "# 编码->字符   用来看预测结果的\n",
    "labelConverter = IndexToString(inputCol=\"prediction\", outputCol=\"predictedLabel\",\n",
    "                               labels=label_stringIdx.labels)"
   ]
  },
  {
   "cell_type": "markdown",
   "metadata": {},
   "source": [
    "## 分词 与 去除停用词"
   ]
  },
  {
   "cell_type": "code",
   "execution_count": 18,
   "metadata": {
    "tags": []
   },
   "outputs": [],
   "source": [
    "from pyspark.ml.feature import Tokenizer, StopWordsRemover\n",
    "\n",
    "# 分词\n",
    "tokenizer = Tokenizer(inputCol=\"text_words\", outputCol=\"words\")\n",
    "\n",
    "with open(\"data/my_stop_words.txt\",encoding=\"utf-8\") as f:\n",
    "    stop_words = list(f.read().split(\"\\n\"))\n",
    "\n",
    "# 停用词\n",
    "stopwordsRemover = StopWordsRemover(inputCol=\"words\", outputCol=\"filtered\").setStopWords(stop_words)"
   ]
  },
  {
   "cell_type": "markdown",
   "metadata": {},
   "source": [
    "## BOW 特征"
   ]
  },
  {
   "cell_type": "code",
   "execution_count": 19,
   "metadata": {
    "tags": []
   },
   "outputs": [],
   "source": [
    "from pyspark.ml import Pipeline\n",
    "from pyspark.ml.feature import CountVectorizer"
   ]
  },
  {
   "attachments": {
    "image.png": {
     "image/png": "[encoded data removed]"
    }
   },
   "cell_type": "markdown",
   "metadata": {},
   "source": [
    "![image.png](attachment:image.png)"
   ]
  },
  {
   "cell_type": "code",
   "execution_count": 20,
   "metadata": {
    "tags": []
   },
   "outputs": [
    {
     "data": {
      "text/plain": [
       "169230"
      ]
     },
     "execution_count": 20,
     "metadata": {},
     "output_type": "execute_result"
    }
   ],
   "source": [
    "#计算总的字数\n",
    "vocab_tmp = spark_sinanews.select('text_words').rdd.flatMap(lambda line: line['text_words'].split(\" \"))\n",
    "\n",
    "vocab =  vocab_tmp.map(lambda word: (word, 1)).reduceByKey(lambda a, b: a + b)\n",
    "                                                    \n",
    "vocab.count()\n",
    "#  169230"
   ]
  },
  {
   "cell_type": "code",
   "execution_count": 21,
   "metadata": {
    "tags": []
   },
   "outputs": [],
   "source": [
    "# bag of words count\n",
    "# CountVectorizer将根据语料库中的词频排序选出前vocabSize个词  由于内存限制，取小一些\n",
    "countVectors = CountVectorizer(inputCol=\"filtered\", outputCol=\"features\", vocabSize=10000) \n",
    "\n",
    "# 1、分词 2、去除停用词 3、bow特征  4、y标签转换\n",
    "pipeline = Pipeline(stages=[tokenizer, stopwordsRemover, countVectors, label_stringIdx])\n",
    "# Fit the pipeline to training documents.\n",
    "pipelineFit = pipeline.fit(spark_sinanews)\n",
    "dataset = pipelineFit.transform(spark_sinanews)"
   ]
  },
  {
   "cell_type": "code",
   "execution_count": 23,
   "metadata": {
    "tags": []
   },
   "outputs": [
    {
     "name": "stdout",
     "output_type": "stream",
     "text": [
      "+-------------+-------------------------------------+-------------------------------+----------------------------+-----------------------------+--------------------+-----+\n",
      "|channel_title|                                 text|                     text_words|                       words|                     filtered|            features|label|\n",
      "+-------------+-------------------------------------+-------------------------------+----------------------------+-----------------------------+--------------------+-----+\n",
      "|         体育|新浪体育讯　中超有两大洋帅。南有恒...|新浪 体育讯 　 中超 有 两大 ...|[新浪, 体育讯, 　, 中超, ...|[新浪, 体育讯, 中超, 两大,...|(10000,[4,11,13,1...|  1.0|\n",
      "+-------------+-------------------------------------+-------------------------------+----------------------------+-----------------------------+--------------------+-----+\n",
      "only showing top 1 row\n",
      "\n"
     ]
    }
   ],
   "source": [
    "dataset.show(1)"
   ]
  },
  {
   "cell_type": "code",
   "execution_count": 32,
   "metadata": {
    "tags": []
   },
   "outputs": [
    {
     "name": "stdout",
     "output_type": "stream",
     "text": [
      "+-------------------------------------+----------------------------+-----------------------------+--------------------+-----+\n",
      "|                                 text|                       words|                     filtered|            features|label|\n",
      "+-------------------------------------+----------------------------+-----------------------------+--------------------+-----+\n",
      "|新浪体育讯　中超有两大洋帅。南有恒...|[新浪, 体育讯, 　, 中超, ...|[新浪, 体育讯, 中超, 两大,...|(10000,[4,11,13,1...|  1.0|\n",
      "|            \\n\\n2015年1月1 日，距 ...|       [, , , , 2015, 年,...|     [2015, 年, 月, 日, 设...|(10000,[0,1,2,4,6...|  1.0|\n",
      "|        新浪体育讯　从2014年11月27...| [新浪, 体育讯, 　, 从, 2...|   [新浪, 体育讯, 2014, 年...|(10000,[0,1,2,4,6...|  1.0|\n",
      "+-------------------------------------+----------------------------+-----------------------------+--------------------+-----+\n",
      "only showing top 3 rows\n",
      "\n"
     ]
    }
   ],
   "source": [
    "dataset.select(\"text\",\"words\",\"filtered\",\"features\",\"label\").show(3)"
   ]
  },
  {
   "cell_type": "markdown",
   "metadata": {},
   "source": [
    "## 切分训练集 测试集"
   ]
  },
  {
   "cell_type": "code",
   "execution_count": 33,
   "metadata": {
    "tags": []
   },
   "outputs": [
    {
     "data": {
      "text/plain": [
       "DataFrame[channel_title: string, text: string, text_words: string, words: array<string>, filtered: array<string>, features: vector, label: double]"
      ]
     },
     "execution_count": 33,
     "metadata": {},
     "output_type": "execute_result"
    }
   ],
   "source": [
    "dataset.persist(storageLevel=StorageLevel(True,False,False,False))"
   ]
  },
  {
   "cell_type": "code",
   "execution_count": 34,
   "metadata": {
    "tags": []
   },
   "outputs": [
    {
     "name": "stdout",
     "output_type": "stream",
     "text": [
      "Training Dataset Count: 7760\n",
      "Test Dataset Count: 3280\n"
     ]
    }
   ],
   "source": [
    "# set seed for reproducibility\n",
    "(trainingData, testData) = dataset.randomSplit([0.7, 0.3], seed = 100)\n",
    "print(\"Training Dataset Count: \" + str(trainingData.count()))\n",
    "print(\"Test Dataset Count: \" + str(testData.count()))"
   ]
  },
  {
   "cell_type": "markdown",
   "metadata": {},
   "source": [
    "## 随机森林模型"
   ]
  },
  {
   "cell_type": "code",
   "execution_count": 35,
   "metadata": {
    "tags": []
   },
   "outputs": [
    {
     "name": "stdout",
     "output_type": "stream",
     "text": [
      "CPU times: total: 46.9 ms\n",
      "Wall time: 18.6 s\n"
     ]
    }
   ],
   "source": [
    "%%time\n",
    "from pyspark.ml.classification import RandomForestClassifier\n",
    "\n",
    "# 随便拍一个参数\n",
    "rf = RandomForestClassifier(labelCol=\"label\", \\\n",
    "                            featuresCol=\"features\", \\\n",
    "                            numTrees = 100, \\\n",
    "                            maxDepth = 4, \\\n",
    "                            maxBins = 32)\n",
    "\n",
    "pipeline = Pipeline(stages=[tokenizer, stopwordsRemover, countVectors, label_stringIdx, rf, labelConverter])\n",
    "\n",
    "(trainingData, testData) = spark_sinanews.randomSplit([0.7, 0.3])\n",
    "trainingData.persist()\n",
    "testData.persist()\n",
    "\n",
    "# Train model. This also runs the indexers.\n",
    "model = pipeline.fit(trainingData)\n",
    "\n",
    "predictions = model.transform(testData)"
   ]
  },
  {
   "cell_type": "code",
   "execution_count": 36,
   "metadata": {
    "tags": []
   },
   "outputs": [
    {
     "name": "stdout",
     "output_type": "stream",
     "text": [
      "+------------------------------+-------------+--------------------+----------+-----+--------------+\n",
      "|                      filtered|channel_title|            features|prediction|label|predictedLabel|\n",
      "+------------------------------+-------------+--------------------+----------+-----+--------------+\n",
      "|      [2015, 年, 月, 日, 设...|         体育|(10000,[0,1,2,4,6...|       1.0|  1.0|          体育|\n",
      "|  [裕裕, 体坛, 周, 报, 驻沪...|         体育|(10000,[0,1,2,4,6...|       1.0|  1.0|          体育|\n",
      "|[仅理, 葛爱平, 亚洲杯, 郑窃...|         体育|(10000,[0,2,3,6,1...|       1.0|  1.0|          体育|\n",
      "|  [伞飞, 飞飞, 伞, 故人, 头...|         体育|(10000,[0,2,4,5,8...|       1.0|  1.0|          体育|\n",
      "|   [傈, 尽尽, 特派, 首, 叉,...|         体育|(10000,[0,1,4,12,...|       1.0|  1.0|          体育|\n",
      "+------------------------------+-------------+--------------------+----------+-----+--------------+\n",
      "only showing top 5 rows\n",
      "\n"
     ]
    }
   ],
   "source": [
    "# Select example rows to display.\n",
    "predictions.select(\"filtered\", 'channel_title', \"features\", \"prediction\", \"label\", 'predictedLabel').show(5)"
   ]
  },
  {
   "cell_type": "code",
   "execution_count": 37,
   "metadata": {},
   "outputs": [
    {
     "name": "stdout",
     "output_type": "stream",
     "text": [
      "F1 Score: 0.9554650517302742\n"
     ]
    }
   ],
   "source": [
    "from pyspark.ml.evaluation import MulticlassClassificationEvaluator\n",
    "\n",
    "evaluator = MulticlassClassificationEvaluator(labelCol=\"label\", predictionCol=\"prediction\", metricName=\"f1\")\n",
    "\n",
    "f1_score = evaluator.evaluate(predictions)\n",
    "print(\"F1 Score:\", f1_score)"
   ]
  },
  {
   "cell_type": "code",
   "execution_count": 38,
   "metadata": {
    "tags": []
   },
   "outputs": [],
   "source": [
    "spark.stop()"
   ]
  },
  {
   "cell_type": "code",
   "execution_count": null,
   "metadata": {},
   "outputs": [],
   "source": []
  }
 ],
 "metadata": {
  "kernelspec": {
   "display_name": "Python 3 (ipykernel)",
   "language": "python",
   "name": "python3"
  },
  "language_info": {
   "codemirror_mode": {
    "name": "ipython",
    "version": 3
   },
   "file_extension": ".py",
   "mimetype": "text/x-python",
   "name": "python",
   "nbconvert_exporter": "python",
   "pygments_lexer": "ipython3",
   "version": "3.11.5"
  },
  "toc": {
   "base_numbering": 1,
   "nav_menu": {},
   "number_sections": true,
   "sideBar": true,
   "skip_h1_title": false,
   "title_cell": "Table of Contents",
   "title_sidebar": "Contents",
   "toc_cell": false,
   "toc_position": {
    "height": "calc(100% - 180px)",
    "left": "10px",
    "top": "150px",
    "width": "182.824px"
   },
   "toc_section_display": true,
   "toc_window_display": true
  }
 },
 "nbformat": 4,
 "nbformat_minor": 4
}
