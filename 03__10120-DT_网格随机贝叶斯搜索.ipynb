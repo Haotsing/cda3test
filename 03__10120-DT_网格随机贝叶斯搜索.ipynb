{
 "cells": [
  {
   "cell_type": "code",
   "execution_count": 1,
   "metadata": {},
   "outputs": [],
   "source": [
    "import pandas as pd\n",
    "import numpy as np\n",
    "import os\n",
    "# os.chdir(r\"/Users/xavierxiong/Documents/AgileAlgorithmTeaching/Decision Tree/data&code\")"
   ]
  },
  {
   "cell_type": "code",
   "execution_count": 3,
   "metadata": {},
   "outputs": [
    {
     "data": {
      "text/html": [
       "<div>\n",
       "<style scoped>\n",
       "    .dataframe tbody tr th:only-of-type {\n",
       "        vertical-align: middle;\n",
       "    }\n",
       "\n",
       "    .dataframe tbody tr th {\n",
       "        vertical-align: top;\n",
       "    }\n",
       "\n",
       "    .dataframe thead th {\n",
       "        text-align: right;\n",
       "    }\n",
       "</style>\n",
       "<table border=\"1\" class=\"dataframe\">\n",
       "  <thead>\n",
       "    <tr style=\"text-align: right;\">\n",
       "      <th></th>\n",
       "      <th>net_size</th>\n",
       "      <th>degree</th>\n",
       "      <th>average_neighbor_degree</th>\n",
       "      <th>percentage</th>\n",
       "      <th>flag</th>\n",
       "    </tr>\n",
       "  </thead>\n",
       "  <tbody>\n",
       "    <tr>\n",
       "      <th>0</th>\n",
       "      <td>2</td>\n",
       "      <td>1</td>\n",
       "      <td>1.0</td>\n",
       "      <td>0.0</td>\n",
       "      <td>1</td>\n",
       "    </tr>\n",
       "    <tr>\n",
       "      <th>1</th>\n",
       "      <td>2</td>\n",
       "      <td>1</td>\n",
       "      <td>1.0</td>\n",
       "      <td>0.0</td>\n",
       "      <td>0</td>\n",
       "    </tr>\n",
       "    <tr>\n",
       "      <th>2</th>\n",
       "      <td>2</td>\n",
       "      <td>1</td>\n",
       "      <td>1.0</td>\n",
       "      <td>0.0</td>\n",
       "      <td>0</td>\n",
       "    </tr>\n",
       "    <tr>\n",
       "      <th>3</th>\n",
       "      <td>2</td>\n",
       "      <td>1</td>\n",
       "      <td>1.0</td>\n",
       "      <td>0.0</td>\n",
       "      <td>0</td>\n",
       "    </tr>\n",
       "    <tr>\n",
       "      <th>4</th>\n",
       "      <td>2</td>\n",
       "      <td>1</td>\n",
       "      <td>1.0</td>\n",
       "      <td>0.0</td>\n",
       "      <td>0</td>\n",
       "    </tr>\n",
       "  </tbody>\n",
       "</table>\n",
       "</div>"
      ],
      "text/plain": [
       "   net_size  degree  average_neighbor_degree  percentage  flag\n",
       "0         2       1                      1.0         0.0     1\n",
       "1         2       1                      1.0         0.0     0\n",
       "2         2       1                      1.0         0.0     0\n",
       "3         2       1                      1.0         0.0     0\n",
       "4         2       1                      1.0         0.0     0"
      ]
     },
     "execution_count": 3,
     "metadata": {},
     "output_type": "execute_result"
    }
   ],
   "source": [
    "df=pd.read_csv(r\"./data/loan_net.csv\",skipinitialspace=True)\n",
    "df.head()"
   ]
  },
  {
   "cell_type": "code",
   "execution_count": 4,
   "metadata": {},
   "outputs": [
    {
     "data": {
      "text/plain": [
       "flag\n",
       "0    27250\n",
       "1       71\n",
       "Name: count, dtype: int64"
      ]
     },
     "execution_count": 4,
     "metadata": {},
     "output_type": "execute_result"
    }
   ],
   "source": [
    "df.flag.value_counts()"
   ]
  },
  {
   "cell_type": "code",
   "execution_count": 5,
   "metadata": {},
   "outputs": [],
   "source": [
    "#确定自变量 因变量\n",
    "target=df[\"flag\"].copy()\n",
    "data=df.iloc[:,:4].copy()"
   ]
  },
  {
   "cell_type": "code",
   "execution_count": 6,
   "metadata": {},
   "outputs": [],
   "source": [
    "# data\n",
    "#将数据集划分训练和测试\n",
    "from sklearn.model_selection import train_test_split\n",
    "train_data,test_data,train_target,test_target=train_test_split(data,target,test_size=0.4,train_size=0.6,random_state=1234,stratify=target)"
   ]
  },
  {
   "cell_type": "code",
   "execution_count": 7,
   "metadata": {},
   "outputs": [
    {
     "name": "stdout",
     "output_type": "stream",
     "text": [
      "16392\n",
      "10929\n"
     ]
    }
   ],
   "source": [
    "print(len(train_data))\n",
    "print(len(test_data))\n",
    "# print(10929/(10929+16392))"
   ]
  },
  {
   "cell_type": "code",
   "execution_count": 8,
   "metadata": {},
   "outputs": [],
   "source": [
    "#使用决策树算法建模\n",
    "from sklearn.tree import DecisionTreeClassifier\n",
    "from sklearn.model_selection import GridSearchCV\n",
    "from sklearn.model_selection import cross_val_score"
   ]
  },
  {
   "cell_type": "code",
   "execution_count": 9,
   "metadata": {},
   "outputs": [
    {
     "data": {
      "text/plain": [
       "0.6518490711194973"
      ]
     },
     "execution_count": 9,
     "metadata": {},
     "output_type": "execute_result"
    }
   ],
   "source": [
    "#初始化决策树分类器\n",
    "clf=DecisionTreeClassifier(random_state=42)\n",
    "#交叉验证评估模型性能\n",
    "cv_score=cross_val_score(clf,train_data,train_target,cv=5,scoring=\"roc_auc\")\n",
    "np.mean(cv_score)\n"
   ]
  },
  {
   "cell_type": "code",
   "execution_count": 9,
   "metadata": {},
   "outputs": [],
   "source": [
    "# # #网格搜索\n",
    "# # param_grid={\n",
    "# #     \"criterion\":[\"entropy\",\"gini\"],#当前计算的指标\n",
    "# #     \"max_depth\":[2,3,4,5],#树的最大深度\n",
    "# #     \"min_sample_split\":[2,4,6,8,10],#停止分裂的最小样本量\n",
    "# #     \"min_sample_leaf\":[2,4,6,8,10],#停止分裂的叶子节点最小样本量\n",
    "# #     \"class_weight\":[{0:1,1:1},{0:1,1:2},{0:1,1:3}]#类别的权重\n",
    "# #     }\n",
    "# dtree=DecisionTreeClassifier()\n",
    "# dtree_cv=GridSearchCV(estimator=dtree,\n",
    "#                       param_grid=param_grid,\n",
    "#                       scoring=\"roc_auc\",\n",
    "#                        cv=4)\n"
   ]
  },
  {
   "cell_type": "code",
   "execution_count": 10,
   "metadata": {},
   "outputs": [],
   "source": [
    "param_grid={\n",
    "    \"criterion\":[\"entropy\",\"gini\"],#当前支持计算信息增益和GiNi\n",
    "    \"max_depth\":[1,2,3,4,5,6],#树的最大深度\n",
    "    \"min_samples_split\":[1,2,4,6],#停止分裂的最小样本量\n",
    "    \"min_samples_leaf\":[1,2,4,6],#停止分裂的叶节点最小样本量\n",
    "    \"class_weight\":[{0:1,1:1},{0:1,1:2},{0:1,1:3}]#类别的权重\n",
    "}"
   ]
  },
  {
   "cell_type": "code",
   "execution_count": 11,
   "metadata": {},
   "outputs": [
    {
     "name": "stderr",
     "output_type": "stream",
     "text": [
      "C:\\Users\\Administrator\\anaconda3\\Lib\\site-packages\\sklearn\\model_selection\\_validation.py:425: FitFailedWarning: \n",
      "576 fits failed out of a total of 2304.\n",
      "The score on these train-test partitions for these parameters will be set to nan.\n",
      "If these failures are not expected, you can try to debug them by setting error_score='raise'.\n",
      "\n",
      "Below are more details about the failures:\n",
      "--------------------------------------------------------------------------------\n",
      "576 fits failed with the following error:\n",
      "Traceback (most recent call last):\n",
      "  File \"C:\\Users\\Administrator\\anaconda3\\Lib\\site-packages\\sklearn\\model_selection\\_validation.py\", line 732, in _fit_and_score\n",
      "    estimator.fit(X_train, y_train, **fit_params)\n",
      "  File \"C:\\Users\\Administrator\\anaconda3\\Lib\\site-packages\\sklearn\\base.py\", line 1144, in wrapper\n",
      "    estimator._validate_params()\n",
      "  File \"C:\\Users\\Administrator\\anaconda3\\Lib\\site-packages\\sklearn\\base.py\", line 637, in _validate_params\n",
      "    validate_parameter_constraints(\n",
      "  File \"C:\\Users\\Administrator\\anaconda3\\Lib\\site-packages\\sklearn\\utils\\_param_validation.py\", line 95, in validate_parameter_constraints\n",
      "    raise InvalidParameterError(\n",
      "sklearn.utils._param_validation.InvalidParameterError: The 'min_samples_split' parameter of DecisionTreeClassifier must be an int in the range [2, inf) or a float in the range (0.0, 1.0]. Got 1 instead.\n",
      "\n",
      "  warnings.warn(some_fits_failed_message, FitFailedWarning)\n",
      "C:\\Users\\Administrator\\anaconda3\\Lib\\site-packages\\sklearn\\model_selection\\_search.py:976: UserWarning: One or more of the test scores are non-finite: [       nan 0.61477273 0.61477273 0.61477273        nan 0.61477273\n",
      " 0.61477273 0.61477273        nan 0.61477273 0.61477273 0.61477273\n",
      "        nan 0.61477273 0.61477273 0.61477273        nan 0.65634625\n",
      " 0.65634625 0.65634625        nan 0.65634625 0.65634625 0.65634625\n",
      "        nan 0.65634625 0.65634625 0.65634625        nan 0.65634625\n",
      " 0.65634625 0.65634625        nan 0.64990152 0.64990152 0.64990152\n",
      "        nan 0.64990152 0.64990152 0.64990152        nan 0.64990152\n",
      " 0.64990152 0.64990152        nan 0.64990152 0.64990152 0.64990152\n",
      "        nan 0.65057925 0.65057925 0.65057925        nan 0.65057925\n",
      " 0.65057925 0.65057925        nan 0.65056534 0.65056534 0.65056534\n",
      "        nan 0.65056534 0.65056534 0.65056534        nan 0.65072269\n",
      " 0.65072269 0.65072269        nan 0.65061261 0.65061261 0.65061261\n",
      "        nan 0.65056534 0.65056534 0.65056534        nan 0.65056534\n",
      " 0.65056534 0.65056534        nan 0.65072269 0.65072269 0.65072269\n",
      "        nan 0.65061261 0.65061261 0.65061261        nan 0.65056534\n",
      " 0.65056534 0.65056534        nan 0.65056534 0.65056534 0.65056534\n",
      "        nan 0.61477273 0.61477273 0.61477273        nan 0.61477273\n",
      " 0.61477273 0.61477273        nan 0.61477273 0.61477273 0.61477273\n",
      "        nan 0.61477273 0.61477273 0.61477273        nan 0.65634625\n",
      " 0.65634625 0.65634625        nan 0.65634625 0.65634625 0.65634625\n",
      "        nan 0.65634625 0.65634625 0.65634625        nan 0.65634625\n",
      " 0.65634625 0.65634625        nan 0.64799971 0.64799971 0.64799971\n",
      "        nan 0.64799971 0.64799971 0.64799971        nan 0.64799971\n",
      " 0.64799971 0.64799971        nan 0.64799971 0.64799971 0.64799971\n",
      "        nan 0.65057925 0.65057925 0.65057925        nan 0.65057925\n",
      " 0.65057925 0.65057925        nan 0.65056534 0.65056534 0.65056534\n",
      "        nan 0.65056534 0.65056534 0.65056534        nan 0.65072269\n",
      " 0.65072269 0.65072269        nan 0.65061261 0.65061261 0.65061261\n",
      "        nan 0.65056534 0.65056534 0.65056534        nan 0.65056534\n",
      " 0.65056534 0.65056534        nan 0.65072269 0.65072269 0.65072269\n",
      "        nan 0.65061261 0.65061261 0.65061261        nan 0.65056534\n",
      " 0.65056534 0.65056534        nan 0.65056534 0.65056534 0.65056534\n",
      "        nan 0.61477273 0.61477273 0.61477273        nan 0.61477273\n",
      " 0.61477273 0.61477273        nan 0.61477273 0.61477273 0.61477273\n",
      "        nan 0.61477273 0.61477273 0.61477273        nan 0.65634625\n",
      " 0.65634625 0.65634625        nan 0.65634625 0.65634625 0.65634625\n",
      "        nan 0.65634625 0.65634625 0.65634625        nan 0.65634625\n",
      " 0.65634625 0.65634625        nan 0.64990152 0.64990152 0.64990152\n",
      "        nan 0.64990152 0.64990152 0.64990152        nan 0.64990152\n",
      " 0.64990152 0.64990152        nan 0.64990152 0.64990152 0.64990152\n",
      "        nan 0.65057925 0.65057925 0.65057925        nan 0.65057925\n",
      " 0.65057925 0.65057925        nan 0.65056534 0.65056534 0.65056534\n",
      "        nan 0.65056534 0.65056534 0.65056534        nan 0.65072269\n",
      " 0.65072269 0.65072269        nan 0.65061261 0.65061261 0.65061261\n",
      "        nan 0.65056534 0.65056534 0.65056534        nan 0.65056534\n",
      " 0.65056534 0.65056534        nan 0.65072269 0.65072269 0.65072269\n",
      "        nan 0.65061261 0.65061261 0.65061261        nan 0.65056534\n",
      " 0.65056534 0.65056534        nan 0.65056534 0.65056534 0.65056534\n",
      "        nan 0.61477273 0.61477273 0.61477273        nan 0.61477273\n",
      " 0.61477273 0.61477273        nan 0.61477273 0.61477273 0.61477273\n",
      "        nan 0.61477273 0.61477273 0.61477273        nan 0.65634625\n",
      " 0.65634625 0.65634625        nan 0.65634625 0.65634625 0.65634625\n",
      "        nan 0.65634625 0.65634625 0.65634625        nan 0.65634625\n",
      " 0.65634625 0.65634625        nan 0.64799971 0.64799971 0.64799971\n",
      "        nan 0.64799971 0.64799971 0.64799971        nan 0.64799971\n",
      " 0.64799971 0.64799971        nan 0.64799971 0.64799971 0.64799971\n",
      "        nan 0.65057925 0.65057925 0.65057925        nan 0.65057925\n",
      " 0.65057925 0.65057925        nan 0.65056534 0.65056534 0.65056534\n",
      "        nan 0.65056534 0.65056534 0.65056534        nan 0.65072269\n",
      " 0.65072269 0.65072269        nan 0.65061261 0.65061261 0.65061261\n",
      "        nan 0.65056534 0.65056534 0.65056534        nan 0.65056534\n",
      " 0.65056534 0.65056534        nan 0.65072269 0.65072269 0.65072269\n",
      "        nan 0.65061261 0.65061261 0.65061261        nan 0.65056534\n",
      " 0.65056534 0.65056534        nan 0.65056534 0.65056534 0.65056534\n",
      "        nan 0.61477273 0.61477273 0.61477273        nan 0.61477273\n",
      " 0.61477273 0.61477273        nan 0.61477273 0.61477273 0.61477273\n",
      "        nan 0.61477273 0.61477273 0.61477273        nan 0.65634625\n",
      " 0.65634625 0.65634625        nan 0.65634625 0.65634625 0.65634625\n",
      "        nan 0.65634625 0.65634625 0.65634625        nan 0.65634625\n",
      " 0.65634625 0.65634625        nan 0.64990152 0.64990152 0.64990152\n",
      "        nan 0.64990152 0.64990152 0.64990152        nan 0.64990152\n",
      " 0.64990152 0.64990152        nan 0.64990152 0.64990152 0.64990152\n",
      "        nan 0.65057925 0.65057925 0.65057925        nan 0.65057925\n",
      " 0.65057925 0.65057925        nan 0.65056534 0.65056534 0.65056534\n",
      "        nan 0.65056534 0.65056534 0.65056534        nan 0.65072269\n",
      " 0.65072269 0.65072269        nan 0.65061261 0.65061261 0.65061261\n",
      "        nan 0.65056534 0.65056534 0.65056534        nan 0.65056534\n",
      " 0.65056534 0.65056534        nan 0.65072269 0.65072269 0.65072269\n",
      "        nan 0.65061261 0.65061261 0.65061261        nan 0.65056534\n",
      " 0.65056534 0.65056534        nan 0.65056534 0.65056534 0.65056534\n",
      "        nan 0.61477273 0.61477273 0.61477273        nan 0.61477273\n",
      " 0.61477273 0.61477273        nan 0.61477273 0.61477273 0.61477273\n",
      "        nan 0.61477273 0.61477273 0.61477273        nan 0.65634625\n",
      " 0.65634625 0.65634625        nan 0.65634625 0.65634625 0.65634625\n",
      "        nan 0.65634625 0.65634625 0.65634625        nan 0.65634625\n",
      " 0.65634625 0.65634625        nan 0.64799971 0.64799971 0.64799971\n",
      "        nan 0.64799971 0.64799971 0.64799971        nan 0.64799971\n",
      " 0.64799971 0.64799971        nan 0.64799971 0.64799971 0.64799971\n",
      "        nan 0.65057925 0.65057925 0.65057925        nan 0.65057925\n",
      " 0.65057925 0.65057925        nan 0.65056534 0.65056534 0.65056534\n",
      "        nan 0.65056534 0.65056534 0.65056534        nan 0.65072269\n",
      " 0.65072269 0.65072269        nan 0.65061261 0.65061261 0.65061261\n",
      "        nan 0.65056534 0.65056534 0.65056534        nan 0.65056534\n",
      " 0.65056534 0.65056534        nan 0.65072269 0.65072269 0.65072269\n",
      "        nan 0.65061261 0.65061261 0.65061261        nan 0.65056534\n",
      " 0.65056534 0.65056534        nan 0.65056534 0.65056534 0.65056534]\n",
      "  warnings.warn(\n"
     ]
    },
    {
     "data": {
      "text/html": [
       "<style>#sk-container-id-1 {color: black;}#sk-container-id-1 pre{padding: 0;}#sk-container-id-1 div.sk-toggleable {background-color: white;}#sk-container-id-1 label.sk-toggleable__label {cursor: pointer;display: block;width: 100%;margin-bottom: 0;padding: 0.3em;box-sizing: border-box;text-align: center;}#sk-container-id-1 label.sk-toggleable__label-arrow:before {content: \"▸\";float: left;margin-right: 0.25em;color: #696969;}#sk-container-id-1 label.sk-toggleable__label-arrow:hover:before {color: black;}#sk-container-id-1 div.sk-estimator:hover label.sk-toggleable__label-arrow:before {color: black;}#sk-container-id-1 div.sk-toggleable__content {max-height: 0;max-width: 0;overflow: hidden;text-align: left;background-color: #f0f8ff;}#sk-container-id-1 div.sk-toggleable__content pre {margin: 0.2em;color: black;border-radius: 0.25em;background-color: #f0f8ff;}#sk-container-id-1 input.sk-toggleable__control:checked~div.sk-toggleable__content {max-height: 200px;max-width: 100%;overflow: auto;}#sk-container-id-1 input.sk-toggleable__control:checked~label.sk-toggleable__label-arrow:before {content: \"▾\";}#sk-container-id-1 div.sk-estimator input.sk-toggleable__control:checked~label.sk-toggleable__label {background-color: #d4ebff;}#sk-container-id-1 div.sk-label input.sk-toggleable__control:checked~label.sk-toggleable__label {background-color: #d4ebff;}#sk-container-id-1 input.sk-hidden--visually {border: 0;clip: rect(1px 1px 1px 1px);clip: rect(1px, 1px, 1px, 1px);height: 1px;margin: -1px;overflow: hidden;padding: 0;position: absolute;width: 1px;}#sk-container-id-1 div.sk-estimator {font-family: monospace;background-color: #f0f8ff;border: 1px dotted black;border-radius: 0.25em;box-sizing: border-box;margin-bottom: 0.5em;}#sk-container-id-1 div.sk-estimator:hover {background-color: #d4ebff;}#sk-container-id-1 div.sk-parallel-item::after {content: \"\";width: 100%;border-bottom: 1px solid gray;flex-grow: 1;}#sk-container-id-1 div.sk-label:hover label.sk-toggleable__label {background-color: #d4ebff;}#sk-container-id-1 div.sk-serial::before {content: \"\";position: absolute;border-left: 1px solid gray;box-sizing: border-box;top: 0;bottom: 0;left: 50%;z-index: 0;}#sk-container-id-1 div.sk-serial {display: flex;flex-direction: column;align-items: center;background-color: white;padding-right: 0.2em;padding-left: 0.2em;position: relative;}#sk-container-id-1 div.sk-item {position: relative;z-index: 1;}#sk-container-id-1 div.sk-parallel {display: flex;align-items: stretch;justify-content: center;background-color: white;position: relative;}#sk-container-id-1 div.sk-item::before, #sk-container-id-1 div.sk-parallel-item::before {content: \"\";position: absolute;border-left: 1px solid gray;box-sizing: border-box;top: 0;bottom: 0;left: 50%;z-index: -1;}#sk-container-id-1 div.sk-parallel-item {display: flex;flex-direction: column;z-index: 1;position: relative;background-color: white;}#sk-container-id-1 div.sk-parallel-item:first-child::after {align-self: flex-end;width: 50%;}#sk-container-id-1 div.sk-parallel-item:last-child::after {align-self: flex-start;width: 50%;}#sk-container-id-1 div.sk-parallel-item:only-child::after {width: 0;}#sk-container-id-1 div.sk-dashed-wrapped {border: 1px dashed gray;margin: 0 0.4em 0.5em 0.4em;box-sizing: border-box;padding-bottom: 0.4em;background-color: white;}#sk-container-id-1 div.sk-label label {font-family: monospace;font-weight: bold;display: inline-block;line-height: 1.2em;}#sk-container-id-1 div.sk-label-container {text-align: center;}#sk-container-id-1 div.sk-container {/* jupyter's `normalize.less` sets `[hidden] { display: none; }` but bootstrap.min.css set `[hidden] { display: none !important; }` so we also need the `!important` here to be able to override the default hidden behavior on the sphinx rendered scikit-learn.org. See: https://github.com/scikit-learn/scikit-learn/issues/21755 */display: inline-block !important;position: relative;}#sk-container-id-1 div.sk-text-repr-fallback {display: none;}</style><div id=\"sk-container-id-1\" class=\"sk-top-container\"><div class=\"sk-text-repr-fallback\"><pre>GridSearchCV(cv=4, estimator=DecisionTreeClassifier(),\n",
       "             param_grid={&#x27;class_weight&#x27;: [{0: 1, 1: 1}, {0: 1, 1: 2},\n",
       "                                          {0: 1, 1: 3}],\n",
       "                         &#x27;criterion&#x27;: [&#x27;entropy&#x27;, &#x27;gini&#x27;],\n",
       "                         &#x27;max_depth&#x27;: [1, 2, 3, 4, 5, 6],\n",
       "                         &#x27;min_samples_leaf&#x27;: [1, 2, 4, 6],\n",
       "                         &#x27;min_samples_split&#x27;: [1, 2, 4, 6]},\n",
       "             scoring=&#x27;roc_auc&#x27;)</pre><b>In a Jupyter environment, please rerun this cell to show the HTML representation or trust the notebook. <br />On GitHub, the HTML representation is unable to render, please try loading this page with nbviewer.org.</b></div><div class=\"sk-container\" hidden><div class=\"sk-item sk-dashed-wrapped\"><div class=\"sk-label-container\"><div class=\"sk-label sk-toggleable\"><input class=\"sk-toggleable__control sk-hidden--visually\" id=\"sk-estimator-id-1\" type=\"checkbox\" ><label for=\"sk-estimator-id-1\" class=\"sk-toggleable__label sk-toggleable__label-arrow\">GridSearchCV</label><div class=\"sk-toggleable__content\"><pre>GridSearchCV(cv=4, estimator=DecisionTreeClassifier(),\n",
       "             param_grid={&#x27;class_weight&#x27;: [{0: 1, 1: 1}, {0: 1, 1: 2},\n",
       "                                          {0: 1, 1: 3}],\n",
       "                         &#x27;criterion&#x27;: [&#x27;entropy&#x27;, &#x27;gini&#x27;],\n",
       "                         &#x27;max_depth&#x27;: [1, 2, 3, 4, 5, 6],\n",
       "                         &#x27;min_samples_leaf&#x27;: [1, 2, 4, 6],\n",
       "                         &#x27;min_samples_split&#x27;: [1, 2, 4, 6]},\n",
       "             scoring=&#x27;roc_auc&#x27;)</pre></div></div></div><div class=\"sk-parallel\"><div class=\"sk-parallel-item\"><div class=\"sk-item\"><div class=\"sk-label-container\"><div class=\"sk-label sk-toggleable\"><input class=\"sk-toggleable__control sk-hidden--visually\" id=\"sk-estimator-id-2\" type=\"checkbox\" ><label for=\"sk-estimator-id-2\" class=\"sk-toggleable__label sk-toggleable__label-arrow\">estimator: DecisionTreeClassifier</label><div class=\"sk-toggleable__content\"><pre>DecisionTreeClassifier()</pre></div></div></div><div class=\"sk-serial\"><div class=\"sk-item\"><div class=\"sk-estimator sk-toggleable\"><input class=\"sk-toggleable__control sk-hidden--visually\" id=\"sk-estimator-id-3\" type=\"checkbox\" ><label for=\"sk-estimator-id-3\" class=\"sk-toggleable__label sk-toggleable__label-arrow\">DecisionTreeClassifier</label><div class=\"sk-toggleable__content\"><pre>DecisionTreeClassifier()</pre></div></div></div></div></div></div></div></div></div></div>"
      ],
      "text/plain": [
       "GridSearchCV(cv=4, estimator=DecisionTreeClassifier(),\n",
       "             param_grid={'class_weight': [{0: 1, 1: 1}, {0: 1, 1: 2},\n",
       "                                          {0: 1, 1: 3}],\n",
       "                         'criterion': ['entropy', 'gini'],\n",
       "                         'max_depth': [1, 2, 3, 4, 5, 6],\n",
       "                         'min_samples_leaf': [1, 2, 4, 6],\n",
       "                         'min_samples_split': [1, 2, 4, 6]},\n",
       "             scoring='roc_auc')"
      ]
     },
     "execution_count": 11,
     "metadata": {},
     "output_type": "execute_result"
    }
   ],
   "source": [
    "dtree=DecisionTreeClassifier()\n",
    "dtree_cv=GridSearchCV(estimator=dtree,\n",
    "                     param_grid=param_grid,\n",
    "                     scoring=\"roc_auc\",\n",
    "                     cv=4)\n",
    "dtree_cv.fit(train_data,train_target)"
   ]
  },
  {
   "cell_type": "code",
   "execution_count": 12,
   "metadata": {},
   "outputs": [
    {
     "data": {
      "text/plain": [
       "0.6563462499684957"
      ]
     },
     "execution_count": 12,
     "metadata": {},
     "output_type": "execute_result"
    }
   ],
   "source": [
    " dtree_cv.best_score_"
   ]
  },
  {
   "cell_type": "code",
   "execution_count": 13,
   "metadata": {},
   "outputs": [
    {
     "data": {
      "text/html": [
       "<style>#sk-container-id-2 {color: black;}#sk-container-id-2 pre{padding: 0;}#sk-container-id-2 div.sk-toggleable {background-color: white;}#sk-container-id-2 label.sk-toggleable__label {cursor: pointer;display: block;width: 100%;margin-bottom: 0;padding: 0.3em;box-sizing: border-box;text-align: center;}#sk-container-id-2 label.sk-toggleable__label-arrow:before {content: \"▸\";float: left;margin-right: 0.25em;color: #696969;}#sk-container-id-2 label.sk-toggleable__label-arrow:hover:before {color: black;}#sk-container-id-2 div.sk-estimator:hover label.sk-toggleable__label-arrow:before {color: black;}#sk-container-id-2 div.sk-toggleable__content {max-height: 0;max-width: 0;overflow: hidden;text-align: left;background-color: #f0f8ff;}#sk-container-id-2 div.sk-toggleable__content pre {margin: 0.2em;color: black;border-radius: 0.25em;background-color: #f0f8ff;}#sk-container-id-2 input.sk-toggleable__control:checked~div.sk-toggleable__content {max-height: 200px;max-width: 100%;overflow: auto;}#sk-container-id-2 input.sk-toggleable__control:checked~label.sk-toggleable__label-arrow:before {content: \"▾\";}#sk-container-id-2 div.sk-estimator input.sk-toggleable__control:checked~label.sk-toggleable__label {background-color: #d4ebff;}#sk-container-id-2 div.sk-label input.sk-toggleable__control:checked~label.sk-toggleable__label {background-color: #d4ebff;}#sk-container-id-2 input.sk-hidden--visually {border: 0;clip: rect(1px 1px 1px 1px);clip: rect(1px, 1px, 1px, 1px);height: 1px;margin: -1px;overflow: hidden;padding: 0;position: absolute;width: 1px;}#sk-container-id-2 div.sk-estimator {font-family: monospace;background-color: #f0f8ff;border: 1px dotted black;border-radius: 0.25em;box-sizing: border-box;margin-bottom: 0.5em;}#sk-container-id-2 div.sk-estimator:hover {background-color: #d4ebff;}#sk-container-id-2 div.sk-parallel-item::after {content: \"\";width: 100%;border-bottom: 1px solid gray;flex-grow: 1;}#sk-container-id-2 div.sk-label:hover label.sk-toggleable__label {background-color: #d4ebff;}#sk-container-id-2 div.sk-serial::before {content: \"\";position: absolute;border-left: 1px solid gray;box-sizing: border-box;top: 0;bottom: 0;left: 50%;z-index: 0;}#sk-container-id-2 div.sk-serial {display: flex;flex-direction: column;align-items: center;background-color: white;padding-right: 0.2em;padding-left: 0.2em;position: relative;}#sk-container-id-2 div.sk-item {position: relative;z-index: 1;}#sk-container-id-2 div.sk-parallel {display: flex;align-items: stretch;justify-content: center;background-color: white;position: relative;}#sk-container-id-2 div.sk-item::before, #sk-container-id-2 div.sk-parallel-item::before {content: \"\";position: absolute;border-left: 1px solid gray;box-sizing: border-box;top: 0;bottom: 0;left: 50%;z-index: -1;}#sk-container-id-2 div.sk-parallel-item {display: flex;flex-direction: column;z-index: 1;position: relative;background-color: white;}#sk-container-id-2 div.sk-parallel-item:first-child::after {align-self: flex-end;width: 50%;}#sk-container-id-2 div.sk-parallel-item:last-child::after {align-self: flex-start;width: 50%;}#sk-container-id-2 div.sk-parallel-item:only-child::after {width: 0;}#sk-container-id-2 div.sk-dashed-wrapped {border: 1px dashed gray;margin: 0 0.4em 0.5em 0.4em;box-sizing: border-box;padding-bottom: 0.4em;background-color: white;}#sk-container-id-2 div.sk-label label {font-family: monospace;font-weight: bold;display: inline-block;line-height: 1.2em;}#sk-container-id-2 div.sk-label-container {text-align: center;}#sk-container-id-2 div.sk-container {/* jupyter's `normalize.less` sets `[hidden] { display: none; }` but bootstrap.min.css set `[hidden] { display: none !important; }` so we also need the `!important` here to be able to override the default hidden behavior on the sphinx rendered scikit-learn.org. See: https://github.com/scikit-learn/scikit-learn/issues/21755 */display: inline-block !important;position: relative;}#sk-container-id-2 div.sk-text-repr-fallback {display: none;}</style><div id=\"sk-container-id-2\" class=\"sk-top-container\"><div class=\"sk-text-repr-fallback\"><pre>RandomizedSearchCV(cv=4, estimator=DecisionTreeClassifier(), n_iter=100,\n",
       "                   n_jobs=-1,\n",
       "                   param_distributions={&#x27;class_weight&#x27;: [{0: 1, 1: 1},\n",
       "                                                         {0: 1, 1: 2},\n",
       "                                                         {0: 1, 1: 3}],\n",
       "                                        &#x27;criterion&#x27;: [&#x27;entropy&#x27;, &#x27;gini&#x27;],\n",
       "                                        &#x27;max_depth&#x27;: array([ 2,  4,  6,  8, 10, 12, 14, 16, 18]),\n",
       "                                        &#x27;min_samples_leaf&#x27;: array([ 2,  4,  6,  8, 10, 12, 14, 16, 18, 20, 22, 24, 26, 28]),\n",
       "                                        &#x27;min_samples_split&#x27;: array([ 2,  4,  6,  8, 10, 12, 14, 16, 18, 20, 22, 24, 26, 28])},\n",
       "                   scoring=&#x27;roc_auc&#x27;)</pre><b>In a Jupyter environment, please rerun this cell to show the HTML representation or trust the notebook. <br />On GitHub, the HTML representation is unable to render, please try loading this page with nbviewer.org.</b></div><div class=\"sk-container\" hidden><div class=\"sk-item sk-dashed-wrapped\"><div class=\"sk-label-container\"><div class=\"sk-label sk-toggleable\"><input class=\"sk-toggleable__control sk-hidden--visually\" id=\"sk-estimator-id-4\" type=\"checkbox\" ><label for=\"sk-estimator-id-4\" class=\"sk-toggleable__label sk-toggleable__label-arrow\">RandomizedSearchCV</label><div class=\"sk-toggleable__content\"><pre>RandomizedSearchCV(cv=4, estimator=DecisionTreeClassifier(), n_iter=100,\n",
       "                   n_jobs=-1,\n",
       "                   param_distributions={&#x27;class_weight&#x27;: [{0: 1, 1: 1},\n",
       "                                                         {0: 1, 1: 2},\n",
       "                                                         {0: 1, 1: 3}],\n",
       "                                        &#x27;criterion&#x27;: [&#x27;entropy&#x27;, &#x27;gini&#x27;],\n",
       "                                        &#x27;max_depth&#x27;: array([ 2,  4,  6,  8, 10, 12, 14, 16, 18]),\n",
       "                                        &#x27;min_samples_leaf&#x27;: array([ 2,  4,  6,  8, 10, 12, 14, 16, 18, 20, 22, 24, 26, 28]),\n",
       "                                        &#x27;min_samples_split&#x27;: array([ 2,  4,  6,  8, 10, 12, 14, 16, 18, 20, 22, 24, 26, 28])},\n",
       "                   scoring=&#x27;roc_auc&#x27;)</pre></div></div></div><div class=\"sk-parallel\"><div class=\"sk-parallel-item\"><div class=\"sk-item\"><div class=\"sk-label-container\"><div class=\"sk-label sk-toggleable\"><input class=\"sk-toggleable__control sk-hidden--visually\" id=\"sk-estimator-id-5\" type=\"checkbox\" ><label for=\"sk-estimator-id-5\" class=\"sk-toggleable__label sk-toggleable__label-arrow\">estimator: DecisionTreeClassifier</label><div class=\"sk-toggleable__content\"><pre>DecisionTreeClassifier()</pre></div></div></div><div class=\"sk-serial\"><div class=\"sk-item\"><div class=\"sk-estimator sk-toggleable\"><input class=\"sk-toggleable__control sk-hidden--visually\" id=\"sk-estimator-id-6\" type=\"checkbox\" ><label for=\"sk-estimator-id-6\" class=\"sk-toggleable__label sk-toggleable__label-arrow\">DecisionTreeClassifier</label><div class=\"sk-toggleable__content\"><pre>DecisionTreeClassifier()</pre></div></div></div></div></div></div></div></div></div></div>"
      ],
      "text/plain": [
       "RandomizedSearchCV(cv=4, estimator=DecisionTreeClassifier(), n_iter=100,\n",
       "                   n_jobs=-1,\n",
       "                   param_distributions={'class_weight': [{0: 1, 1: 1},\n",
       "                                                         {0: 1, 1: 2},\n",
       "                                                         {0: 1, 1: 3}],\n",
       "                                        'criterion': ['entropy', 'gini'],\n",
       "                                        'max_depth': array([ 2,  4,  6,  8, 10, 12, 14, 16, 18]),\n",
       "                                        'min_samples_leaf': array([ 2,  4,  6,  8, 10, 12, 14, 16, 18, 20, 22, 24, 26, 28]),\n",
       "                                        'min_samples_split': array([ 2,  4,  6,  8, 10, 12, 14, 16, 18, 20, 22, 24, 26, 28])},\n",
       "                   scoring='roc_auc')"
      ]
     },
     "execution_count": 13,
     "metadata": {},
     "output_type": "execute_result"
    }
   ],
   "source": [
    "#随机搜索\n",
    "from sklearn.model_selection import RandomizedSearchCV\n",
    "param_grid1={\n",
    "    \"criterion\":[\"entropy\",\"gini\"],#当前支持计算信息增益和GiNi\n",
    "    \"max_depth\":np.arange(2,20,step=2),#树的最大深度\n",
    "    \"min_samples_split\":np.arange(2,30,step=2),#停止分裂的最小样本量\n",
    "    \"min_samples_leaf\":np.arange(2,30,step=2),#停止分裂的叶节点最小样本量\n",
    "    \"class_weight\":[{0:1,1:1},{0:1,1:2},{0:1,1:3}]#类别的权重   \n",
    "}\n",
    "dtree_RS=RandomizedSearchCV(estimator=dtree,\n",
    "                   param_distributions=param_grid1,\n",
    "                   n_iter=100,\n",
    "                   cv=4,\n",
    "                   scoring=\"roc_auc\",\n",
    "                   n_jobs=-1)\n",
    "dtree_RS.fit(train_data,train_target)"
   ]
  },
  {
   "cell_type": "code",
   "execution_count": 14,
   "metadata": {},
   "outputs": [
    {
     "data": {
      "text/plain": [
       "{'min_samples_split': 16,\n",
       " 'min_samples_leaf': 4,\n",
       " 'max_depth': 2,\n",
       " 'criterion': 'gini',\n",
       " 'class_weight': {0: 1, 1: 2}}"
      ]
     },
     "execution_count": 14,
     "metadata": {},
     "output_type": "execute_result"
    }
   ],
   "source": [
    "dtree_RS.best_params_"
   ]
  },
  {
   "cell_type": "code",
   "execution_count": 15,
   "metadata": {},
   "outputs": [],
   "source": [
    "#  pip install bayesian-optimization\n",
    "#贝叶斯优化\n",
    "from bayes_opt import BayesianOptimization"
   ]
  },
  {
   "cell_type": "code",
   "execution_count": 16,
   "metadata": {},
   "outputs": [],
   "source": [
    "def dtrees_cv(max_depth,min_samples_split,min_samples_leaf):\n",
    "    cvs=cross_val_score(\n",
    "        DecisionTreeClassifier(max_depth=int(max_depth),\n",
    "                               min_samples_split=int(min_samples_split),\n",
    "                               min_samples_leaf=int(min_samples_leaf),\n",
    "                               random_state=2\n",
    "    ),train_data,train_target,scoring=\"roc_auc\",cv=4\n",
    "    ).mean()\n",
    "    return cvs\n",
    "#建立贝叶子优化对象\n",
    "dtrees_BO=BayesianOptimization(\n",
    "    dtrees_cv,\n",
    "    {\"max_depth\":(2,20),\n",
    "     \"min_samples_split\":(2,35),\n",
    "     \"min_samples_leaf\":(2,35)}\n",
    ")"
   ]
  },
  {
   "cell_type": "code",
   "execution_count": 17,
   "metadata": {},
   "outputs": [
    {
     "name": "stdout",
     "output_type": "stream",
     "text": [
      "|   iter    |  target   | max_depth | min_sa... | min_sa... |\n",
      "-------------------------------------------------------------\n",
      "| \u001b[0m1        \u001b[0m | \u001b[0m0.6506   \u001b[0m | \u001b[0m7.061    \u001b[0m | \u001b[0m7.46     \u001b[0m | \u001b[0m34.98    \u001b[0m |\n",
      "| \u001b[0m2        \u001b[0m | \u001b[0m0.6469   \u001b[0m | \u001b[0m11.65    \u001b[0m | \u001b[0m30.16    \u001b[0m | \u001b[0m23.94    \u001b[0m |\n",
      "| \u001b[0m3        \u001b[0m | \u001b[0m0.6501   \u001b[0m | \u001b[0m13.47    \u001b[0m | \u001b[0m12.76    \u001b[0m | \u001b[0m25.77    \u001b[0m |\n",
      "| \u001b[95m4        \u001b[0m | \u001b[95m0.6506   \u001b[0m | \u001b[95m12.58    \u001b[0m | \u001b[95m2.975    \u001b[0m | \u001b[95m10.69    \u001b[0m |\n",
      "| \u001b[0m5        \u001b[0m | \u001b[0m0.6261   \u001b[0m | \u001b[0m18.03    \u001b[0m | \u001b[0m24.78    \u001b[0m | \u001b[0m3.377    \u001b[0m |\n",
      "| \u001b[0m6        \u001b[0m | \u001b[0m0.6506   \u001b[0m | \u001b[0m12.25    \u001b[0m | \u001b[0m3.16     \u001b[0m | \u001b[0m9.077    \u001b[0m |\n",
      "| \u001b[95m7        \u001b[0m | \u001b[95m0.6529   \u001b[0m | \u001b[95m2.0      \u001b[0m | \u001b[95m35.0     \u001b[0m | \u001b[95m35.0     \u001b[0m |\n",
      "| \u001b[0m8        \u001b[0m | \u001b[0m0.6246   \u001b[0m | \u001b[0m20.0     \u001b[0m | \u001b[0m27.28    \u001b[0m | \u001b[0m35.0     \u001b[0m |\n",
      "| \u001b[95m9        \u001b[0m | \u001b[95m0.6563   \u001b[0m | \u001b[95m2.0      \u001b[0m | \u001b[95m7.275    \u001b[0m | \u001b[95m21.37    \u001b[0m |\n",
      "| \u001b[0m10       \u001b[0m | \u001b[0m0.6327   \u001b[0m | \u001b[0m2.0      \u001b[0m | \u001b[0m20.35    \u001b[0m | \u001b[0m24.63    \u001b[0m |\n",
      "| \u001b[0m11       \u001b[0m | \u001b[0m0.6506   \u001b[0m | \u001b[0m8.06     \u001b[0m | \u001b[0m2.309    \u001b[0m | \u001b[0m24.26    \u001b[0m |\n",
      "| \u001b[0m12       \u001b[0m | \u001b[0m0.6563   \u001b[0m | \u001b[0m2.0      \u001b[0m | \u001b[0m2.594    \u001b[0m | \u001b[0m13.93    \u001b[0m |\n",
      "| \u001b[0m13       \u001b[0m | \u001b[0m0.6563   \u001b[0m | \u001b[0m2.0      \u001b[0m | \u001b[0m10.63    \u001b[0m | \u001b[0m9.474    \u001b[0m |\n",
      "| \u001b[0m14       \u001b[0m | \u001b[0m0.6563   \u001b[0m | \u001b[0m2.644    \u001b[0m | \u001b[0m2.629    \u001b[0m | \u001b[0m2.289    \u001b[0m |\n",
      "| \u001b[0m15       \u001b[0m | \u001b[0m0.6506   \u001b[0m | \u001b[0m20.0     \u001b[0m | \u001b[0m2.0      \u001b[0m | \u001b[0m35.0     \u001b[0m |\n",
      "| \u001b[0m16       \u001b[0m | \u001b[0m0.6558   \u001b[0m | \u001b[0m2.0      \u001b[0m | \u001b[0m13.15    \u001b[0m | \u001b[0m2.0      \u001b[0m |\n",
      "| \u001b[0m17       \u001b[0m | \u001b[0m0.6529   \u001b[0m | \u001b[0m2.0      \u001b[0m | \u001b[0m35.0     \u001b[0m | \u001b[0m2.0      \u001b[0m |\n",
      "| \u001b[0m18       \u001b[0m | \u001b[0m0.6529   \u001b[0m | \u001b[0m2.0      \u001b[0m | \u001b[0m35.0     \u001b[0m | \u001b[0m14.66    \u001b[0m |\n",
      "| \u001b[0m19       \u001b[0m | \u001b[0m0.6506   \u001b[0m | \u001b[0m20.0     \u001b[0m | \u001b[0m2.0      \u001b[0m | \u001b[0m21.91    \u001b[0m |\n",
      "| \u001b[0m20       \u001b[0m | \u001b[0m0.6324   \u001b[0m | \u001b[0m2.0      \u001b[0m | \u001b[0m23.63    \u001b[0m | \u001b[0m5.117    \u001b[0m |\n",
      "| \u001b[0m21       \u001b[0m | \u001b[0m0.6506   \u001b[0m | \u001b[0m7.513    \u001b[0m | \u001b[0m8.662    \u001b[0m | \u001b[0m2.0      \u001b[0m |\n",
      "| \u001b[0m22       \u001b[0m | \u001b[0m0.6529   \u001b[0m | \u001b[0m2.0      \u001b[0m | \u001b[0m35.0     \u001b[0m | \u001b[0m24.85    \u001b[0m |\n",
      "| \u001b[0m23       \u001b[0m | \u001b[0m0.6506   \u001b[0m | \u001b[0m20.0     \u001b[0m | \u001b[0m2.0      \u001b[0m | \u001b[0m2.0      \u001b[0m |\n",
      "| \u001b[0m24       \u001b[0m | \u001b[0m0.6506   \u001b[0m | \u001b[0m7.34     \u001b[0m | \u001b[0m8.731    \u001b[0m | \u001b[0m16.45    \u001b[0m |\n",
      "| \u001b[0m25       \u001b[0m | \u001b[0m0.6563   \u001b[0m | \u001b[0m2.0      \u001b[0m | \u001b[0m2.0      \u001b[0m | \u001b[0m35.0     \u001b[0m |\n",
      "| \u001b[0m26       \u001b[0m | \u001b[0m0.6563   \u001b[0m | \u001b[0m2.023    \u001b[0m | \u001b[0m3.186    \u001b[0m | \u001b[0m27.71    \u001b[0m |\n",
      "| \u001b[0m27       \u001b[0m | \u001b[0m0.6469   \u001b[0m | \u001b[0m12.43    \u001b[0m | \u001b[0m35.0     \u001b[0m | \u001b[0m16.01    \u001b[0m |\n",
      "| \u001b[0m28       \u001b[0m | \u001b[0m0.6563   \u001b[0m | \u001b[0m2.253    \u001b[0m | \u001b[0m6.473    \u001b[0m | \u001b[0m6.479    \u001b[0m |\n",
      "| \u001b[0m29       \u001b[0m | \u001b[0m0.6504   \u001b[0m | \u001b[0m20.0     \u001b[0m | \u001b[0m11.59    \u001b[0m | \u001b[0m18.05    \u001b[0m |\n",
      "| \u001b[0m30       \u001b[0m | \u001b[0m0.6563   \u001b[0m | \u001b[0m2.283    \u001b[0m | \u001b[0m2.37     \u001b[0m | \u001b[0m20.55    \u001b[0m |\n",
      "=============================================================\n"
     ]
    }
   ],
   "source": [
    "#开始优化\n",
    "dtrees_BO.maximize()"
   ]
  },
  {
   "cell_type": "code",
   "execution_count": 18,
   "metadata": {},
   "outputs": [
    {
     "data": {
      "text/plain": [
       "{'target': 0.6563462499684957,\n",
       " 'params': {'max_depth': 2.0,\n",
       "  'min_samples_leaf': 7.275480398989448,\n",
       "  'min_samples_split': 21.367751997935702}}"
      ]
     },
     "execution_count": 18,
     "metadata": {},
     "output_type": "execute_result"
    }
   ],
   "source": [
    "#寻找最大值\n",
    "dtrees_BO.max"
   ]
  },
  {
   "cell_type": "code",
   "execution_count": 19,
   "metadata": {},
   "outputs": [],
   "source": [
    "# ! pip install pydotplus"
   ]
  },
  {
   "cell_type": "code",
   "execution_count": 19,
   "metadata": {},
   "outputs": [],
   "source": [
    "#决策树可视化\n",
    "import pydotplus\n",
    "from IPython.display import Image\n",
    "import sklearn.tree as tree\n",
    "%matplotlib inline"
   ]
  },
  {
   "cell_type": "code",
   "execution_count": 20,
   "metadata": {},
   "outputs": [
    {
     "data": {
      "image/png": "[encoded data removed]",
      "text/plain": [
       "<IPython.core.display.Image object>"
      ]
     },
     "execution_count": 20,
     "metadata": {},
     "output_type": "execute_result"
    }
   ],
   "source": [
    "#获取网格搜索的最优模型\n",
    "best_tree=dtree_cv.best_estimator_\n",
    "#生成dot文件\n",
    "dot_data=tree.export_graphviz(\n",
    "    best_tree,\n",
    "    out_file=None,\n",
    "    feature_names=data.columns,\n",
    "    max_depth=3,\n",
    "    class_names=True,\n",
    "    filled=True\n",
    ")\n",
    "#用dot文件生成决策树图形\n",
    "graph=pydotplus.graph_from_dot_data(dot_data)\n",
    "Image(graph.create_png())"
   ]
  },
  {
   "cell_type": "code",
   "execution_count": 21,
   "metadata": {},
   "outputs": [],
   "source": [
    "#利用决策树模型进行预测，并且生成决策类评估指标\n",
    "from sklearn.metrics import classification_report"
   ]
  },
  {
   "cell_type": "code",
   "execution_count": 22,
   "metadata": {},
   "outputs": [],
   "source": [
    "#预测值\n",
    "test_est=best_tree.predict(test_data)\n",
    "# test_est"
   ]
  },
  {
   "cell_type": "code",
   "execution_count": 23,
   "metadata": {},
   "outputs": [
    {
     "name": "stdout",
     "output_type": "stream",
     "text": [
      "              precision    recall  f1-score   support\n",
      "\n",
      "           0      0.998     1.000     0.999     10901\n",
      "           1      1.000     0.214     0.353        28\n",
      "\n",
      "    accuracy                          0.998     10929\n",
      "   macro avg      0.999     0.607     0.676     10929\n",
      "weighted avg      0.998     0.998     0.997     10929\n",
      "\n"
     ]
    }
   ],
   "source": [
    "#计算评估指标\n",
    "print(classification_report(test_target,test_est,digits=3))"
   ]
  },
  {
   "cell_type": "code",
   "execution_count": 24,
   "metadata": {},
   "outputs": [],
   "source": [
    "import matplotlib.pyplot as plt\n",
    "from sklearn.metrics import precision_recall_curve,average_precision_score\n",
    "from sklearn.metrics import roc_curve,auc\n",
    "#绘制roc PR KS 曲线\n",
    "def plot_metrics_curve(test_target,train_target,test_proba,train_proba):\n",
    "    fpr_test, tpr_test, th_test = roc_curve(test_target, test_proba)\n",
    "    fpr_train, tpr_train, th_train = roc_curve(train_target, train_proba)\n",
    "    precision_test, recall_test, _ = precision_recall_curve(test_target, \n",
    "                                                            test_proba)\n",
    "    precision_train, recall_train, _ = precision_recall_curve(train_target,\n",
    "                                                              train_proba)\n",
    "    \n",
    "    #  ROC curve\n",
    "    plt.figure(figsize=[6, 6])\n",
    "    plt.subplot(221)\n",
    "    plt.plot(fpr_test, tpr_test, 'b--')\n",
    "    plt.plot(fpr_train, tpr_train, 'r-')\n",
    "    plt.xlabel('fpr')\n",
    "    plt.ylabel('tpr')\n",
    "    plt.title('ROC curve:Test is dotted line')\n",
    "    \n",
    "    # PR curve\n",
    "    plt.subplot(222)\n",
    "    plt.plot(recall_test, precision_test, 'b--')\n",
    "    plt.plot(recall_train, precision_train, 'r-')\n",
    "    plt.xlabel('recall')\n",
    "    plt.ylabel('precision')\n",
    "    plt.title('PR curve:Test is dotted line')\n",
    "    \n",
    "    # KS curve, 曲线按阈值降序排列，所以需要1-threshold镜像\n",
    "    plt.subplot(212)\n",
    "    plt.plot(1 - th_test, tpr_test, 'b--', label='tpr') \n",
    "    plt.plot(1 - th_test, fpr_test, 'b:', label='fpr')\n",
    "    plt.plot(1 - th_test, tpr_test - fpr_test, 'r-', label='tpr-fpr')\n",
    "    plt.xlabel('score')\n",
    "    plt.title('KS Curve  KS= %0.2f' %max(tpr_test - fpr_test))\n",
    "    legend = plt.legend(loc='upper left', shadow=True, fontsize='x-large')\n",
    "    \n",
    "    plt.tight_layout()\n",
    "    plt.show()\n",
    "    \n",
    "    # Print ROC-AUC \n",
    "    print('TestAUC=%.4f,' %auc(fpr_test, tpr_test),\n",
    "          'TrainAUC=%.4f' %auc(fpr_train, tpr_train))\n",
    "    # Print average precision score\n",
    "    print('TestAP=%.4f,'%average_precision_score(test_target,test_proba),\n",
    "          'TrainAP=%.4f'%average_precision_score(train_target,train_proba))"
   ]
  },
  {
   "cell_type": "code",
   "execution_count": 25,
   "metadata": {},
   "outputs": [],
   "source": [
    "# test_proba=best_tree.predict_proba(test_data)[:,1]\n",
    "# train_proba=best_tree.predict_proba(train_data)[:,1]"
   ]
  },
  {
   "cell_type": "code",
   "execution_count": 26,
   "metadata": {},
   "outputs": [
    {
     "data": {
      "image/png": "[encoded data removed]",
      "text/plain": [
       "<Figure size 600x600 with 3 Axes>"
      ]
     },
     "metadata": {},
     "output_type": "display_data"
    },
    {
     "name": "stdout",
     "output_type": "stream",
     "text": [
      "TestAUC=0.6738, TrainAUC=0.6675\n",
      "TestAP=0.2168, TrainAP=0.2350\n"
     ]
    }
   ],
   "source": [
    "#绘制评估图形\n",
    "#使用这个编写的函数绘制评估图形并计算评估指标\n",
    "#预测概率\n",
    "test_proba=best_tree.predict_proba(test_data)[:,1]\n",
    "train_proba=best_tree.predict_proba(train_data)[:,1]\n",
    "plot_metrics_curve(test_target,train_target,test_proba,train_proba)"
   ]
  },
  {
   "cell_type": "code",
   "execution_count": null,
   "metadata": {},
   "outputs": [],
   "source": []
  }
 ],
 "metadata": {
  "kernelspec": {
   "display_name": "Python 3 (ipykernel)",
   "language": "python",
   "name": "python3"
  },
  "language_info": {
   "codemirror_mode": {
    "name": "ipython",
    "version": 3
   },
   "file_extension": ".py",
   "mimetype": "text/x-python",
   "name": "python",
   "nbconvert_exporter": "python",
   "pygments_lexer": "ipython3",
   "version": "3.11.5"
  },
  "toc": {
   "base_numbering": 1,
   "nav_menu": {},
   "number_sections": true,
   "sideBar": true,
   "skip_h1_title": false,
   "title_cell": "Table of Contents",
   "title_sidebar": "Contents",
   "toc_cell": false,
   "toc_position": {},
   "toc_section_display": true,
   "toc_window_display": false
  }
 },
 "nbformat": 4,
 "nbformat_minor": 2
}
